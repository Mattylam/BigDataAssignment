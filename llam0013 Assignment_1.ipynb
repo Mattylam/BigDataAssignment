{
 "cells": [
  {
   "cell_type": "markdown",
   "id": "ef1e5efd",
   "metadata": {},
   "source": [
    "# Part 1 Working with RDD "
   ]
  },
  {
   "cell_type": "markdown",
   "id": "00d20411",
   "metadata": {},
   "source": [
    "# 1.1"
   ]
  },
  {
   "cell_type": "code",
   "execution_count": 33,
   "id": "64b83361",
   "metadata": {},
   "outputs": [],
   "source": [
    "# 1 \n",
    "\n",
    "# Import SparkConf class into program\n",
    "from pyspark import SparkConf\n",
    "\n",
    "# local[*]: run Spark in local mode with as many working processors as logical cores on your machine\n",
    "# If we want Spark to run locally with 'k' worker threads, we can specify as \"local[k]\".\n",
    "master = \"local[*]\"\n",
    "# The `appName` field is a name to be shown on the Spark cluster UI page\n",
    "app_name = \"Assignment_1\"\n",
    "# Setup configuration parameters for Spark\n",
    "spark_conf = SparkConf().setMaster(master).setAppName(app_name)\n",
    "\n",
    "# Import SparkContext and SparkSession classes\n",
    "from pyspark import SparkContext # Spark\n",
    "from pyspark.sql import SparkSession # Spark SQL\n",
    "\n",
    "# Using SparkSession\n",
    "spark = SparkSession.builder.config(conf=spark_conf).getOrCreate()\n",
    "sc = spark.sparkContext\n",
    "sc.setLogLevel('ERROR')\n"
   ]
  },
  {
   "cell_type": "code",
   "execution_count": 34,
   "id": "b7368ba6",
   "metadata": {},
   "outputs": [],
   "source": [
    "# 2\n",
    "\n",
    "# import trip csv into single RDD\n",
    "\n",
    "# create single RDD\n",
    "trip_rdd = sc.textFile('data/trip.csv')"
   ]
  },
  {
   "cell_type": "code",
   "execution_count": 35,
   "id": "f8b7e16c",
   "metadata": {},
   "outputs": [],
   "source": [
    "# 3\n",
    "\n",
    "# import passenger csv into single RDD\n",
    "\n",
    "# create single RDD\n",
    "passenger_rdd = sc.textFile('data/passenger.csv')"
   ]
  },
  {
   "cell_type": "code",
   "execution_count": 36,
   "id": "d6f9d0db",
   "metadata": {},
   "outputs": [
    {
     "data": {
      "text/plain": [
       "['a84c0db2,cb64172e,2ea4359d,43006,9/8/2019 10:01:28 PM,9/8/2019 10:15:54 PM,0.3,1.92,4.36',\n",
       " 'a84c2d10,3034e6fe,e1bd0c8d,43006,7/1/2019 8:56:28 PM,7/1/2019 9:22:09 PM,0,9.36,6.91',\n",
       " 'a84c3e75,93fb6802,75e6d450,43050,8/20/2019 9:30:46 PM,8/20/2019 9:46:48 PM,0,4.39,3.48',\n",
       " 'a84c3f6f,25fc9273,5ba48e89,43020,9/8/2019 2:42:41 AM,9/8/2019 2:59:56 AM,0,2.04,1.54',\n",
       " 'a84c5ce2,484c4d0c,fdb2ef59,43006,6/10/2019 9:29:18 AM,6/10/2019 9:55:36 AM,0,7.37,5.83']"
      ]
     },
     "execution_count": 36,
     "metadata": {},
     "output_type": "execute_result"
    }
   ],
   "source": [
    "# 4 \n",
    "# remove the header row\n",
    "header = trip_rdd.first()\n",
    "trip_rdd_data = trip_rdd.filter(lambda row: row != header)\n",
    "\n",
    "# show 5 records \n",
    "trip_rdd_data.take(5)"
   ]
  },
  {
   "cell_type": "code",
   "execution_count": 37,
   "id": "f2dc658d",
   "metadata": {},
   "outputs": [
    {
     "data": {
      "text/plain": [
       "['00000fab,5/11/2019 8:23:54 PM',\n",
       " '0000149d,12/24/2018 9:21:33 PM',\n",
       " '00002b66,9/20/2018 9:08:24 PM',\n",
       " '00002bc7,7/28/2019 11:27:56 AM',\n",
       " '0000332e,2/21/2019 11:34:24 PM']"
      ]
     },
     "execution_count": 37,
     "metadata": {},
     "output_type": "execute_result"
    }
   ],
   "source": [
    "# remove the header row\n",
    "header1 = passenger_rdd.first()\n",
    "passenger_rdd_data = passenger_rdd.filter(lambda row: row != header1)\n",
    "\n",
    "# show 5 records \n",
    "passenger_rdd_data.take(5)"
   ]
  },
  {
   "cell_type": "markdown",
   "id": "a7fb96a2",
   "metadata": {},
   "source": [
    "# 1.2"
   ]
  },
  {
   "cell_type": "code",
   "execution_count": 38,
   "id": "99a26bc4",
   "metadata": {},
   "outputs": [
    {
     "name": "stdout",
     "output_type": "stream",
     "text": [
      "Trip default partitions:  6\n",
      "Passenger default partitions:  2\n"
     ]
    }
   ],
   "source": [
    "# 1\n",
    "print('Trip default partitions: ',trip_rdd.getNumPartitions())\n",
    "print('Passenger default partitions: ',passenger_rdd.getNumPartitions())"
   ]
  },
  {
   "cell_type": "markdown",
   "id": "a7b41827",
   "metadata": {},
   "source": [
    "By Default, when the number of partition is not specified, Spark creates one Partition for each block of the file (For HDFS)\n",
    "Default block size for HDFS block is 64 MB (Hadoop Version 1) / 128 MB (Hadoop Version 2)."
   ]
  },
  {
   "cell_type": "code",
   "execution_count": null,
   "id": "498bd8ad",
   "metadata": {},
   "outputs": [],
   "source": []
  },
  {
   "cell_type": "code",
   "execution_count": 39,
   "id": "14af952f",
   "metadata": {},
   "outputs": [
    {
     "data": {
      "text/plain": [
       "[('In 2019', '00000fab,5/11/2019 8:23:54 PM'),\n",
       " ('Not In 2019', '0000149d,12/24/2018 9:21:33 PM'),\n",
       " ('Not In 2019', '00002b66,9/20/2018 9:08:24 PM'),\n",
       " ('In 2019', '00002bc7,7/28/2019 11:27:56 AM'),\n",
       " ('In 2019', '0000332e,2/21/2019 11:34:24 PM')]"
      ]
     },
     "execution_count": 39,
     "metadata": {},
     "output_type": "execute_result"
    }
   ],
   "source": [
    "# 2 \n",
    "from datetime import datetime\n",
    "# a\n",
    "mapValues_passenger_rdd = passenger_rdd_data\n",
    "\n",
    "# create key value pair rdd\n",
    "# Implement function with logic to be applied to the RDDs\n",
    "def parseRecord(line):\n",
    "    array_line = line.split(',')\n",
    "    sign = \"\"\n",
    "    if array_line[1] != \"\":\n",
    "        date = array_line[1].split(' ')\n",
    "        date_list = date[0].split('/')\n",
    "        year = int(date_list[2])\n",
    "        sign = \"Not In 2019\"\n",
    "        if year == 2019:\n",
    "            sign = \"In 2019\"\n",
    "    # Return a tuple with the key as first element and the remaining as the second element\n",
    "    return (sign, line)\n",
    "\n",
    "mapValues_passenger_rdd_1 = mapValues_passenger_rdd.map(parseRecord)\n",
    "\n",
    "# the first_call_time row is in 1\n",
    "\n",
    "# show 5 values\n",
    "mapValues_passenger_rdd_1.take(5)"
   ]
  },
  {
   "cell_type": "code",
   "execution_count": 40,
   "id": "91c26b3a",
   "metadata": {},
   "outputs": [],
   "source": [
    "# b \n",
    "no_of_partitions = 2\n",
    "\n",
    "#Define a range of values by key to distribute across partitions\n",
    "\n",
    "def range_function(key):\n",
    "     if key == \"In 2019\":\n",
    "         return 0\n",
    "     else:\n",
    "         return 1\n",
    "\n"
   ]
  },
  {
   "cell_type": "code",
   "execution_count": 41,
   "id": "ab646337",
   "metadata": {},
   "outputs": [],
   "source": [
    "# partition\n",
    "#result = mapValues_passenger_rdd_1.map(lambda elem: list(elem)).collect()\n",
    "#rdd = sc.parallelize(result, no_of_partitions)\n",
    "rdd = mapValues_passenger_rdd_1.partitionBy(no_of_partitions, range_function)"
   ]
  },
  {
   "cell_type": "code",
   "execution_count": 42,
   "id": "b45c7b09",
   "metadata": {},
   "outputs": [
    {
     "name": "stderr",
     "output_type": "stream",
     "text": [
      "                                                                                \r"
     ]
    },
    {
     "name": "stdout",
     "output_type": "stream",
     "text": [
      "Partition 0: 556856 records\n",
      "Partition 1: 678926 records\n"
     ]
    }
   ],
   "source": [
    "partitions = rdd.glom().collect()\n",
    "for index, partition in enumerate(partitions):\n",
    "    # show partition if it is not empty\n",
    "    if len(partition) > 0:\n",
    "        print(f\"Partition {index}: {len(partition)} records\")"
   ]
  },
  {
   "cell_type": "markdown",
   "id": "5ae623d9",
   "metadata": {},
   "source": [
    "# 1.3"
   ]
  },
  {
   "cell_type": "code",
   "execution_count": 43,
   "id": "c6a11318",
   "metadata": {
    "scrolled": true
   },
   "outputs": [
    {
     "name": "stderr",
     "output_type": "stream",
     "text": [
      "                                                                                \r"
     ]
    },
    {
     "name": "stdout",
     "output_type": "stream",
     "text": [
      "There are 2318357 records in surge rate before filter\n"
     ]
    },
    {
     "name": "stderr",
     "output_type": "stream",
     "text": [
      "[Stage 87:======================================>                   (4 + 2) / 6]\r"
     ]
    },
    {
     "name": "stdout",
     "output_type": "stream",
     "text": [
      "There are 2318351 records in surge rate after filter\n"
     ]
    },
    {
     "name": "stderr",
     "output_type": "stream",
     "text": [
      "                                                                                \r"
     ]
    }
   ],
   "source": [
    "# 1 \n",
    "\n",
    "# surge_rate column\n",
    "surge_count = trip_rdd_data.map(lambda line : line.split(',')[6]).count()\n",
    "print(\"There are \" + str(surge_count) + \" records in surge rate before filter\")\n",
    "trip_filtered = trip_rdd_data.filter(lambda line : line.split(',')[6] != '')\n",
    "trip_filtered_surge_count = trip_filtered.map(lambda line : line.split(',')[6]).count()\n",
    "print(\"There are \" + str(trip_filtered_surge_count) + \" records in surge rate after filter\")"
   ]
  },
  {
   "cell_type": "code",
   "execution_count": 44,
   "id": "ac64d344",
   "metadata": {},
   "outputs": [
    {
     "name": "stderr",
     "output_type": "stream",
     "text": [
      "                                                                                \r"
     ]
    },
    {
     "name": "stdout",
     "output_type": "stream",
     "text": [
      "There are 2318351 records in trip_distance before filter\n"
     ]
    },
    {
     "name": "stderr",
     "output_type": "stream",
     "text": [
      "[Stage 89:======================================>                   (4 + 2) / 6]\r"
     ]
    },
    {
     "name": "stdout",
     "output_type": "stream",
     "text": [
      "There are 2295112 records in trip_distance after filter\n"
     ]
    },
    {
     "name": "stderr",
     "output_type": "stream",
     "text": [
      "                                                                                \r"
     ]
    }
   ],
   "source": [
    "# trip_distance column\n",
    "trip_distance = trip_filtered.map(lambda line : line.split(',')[7]).count()\n",
    "print(\"There are \" + str(trip_distance) + \" records in trip_distance before filter\")\n",
    "trip_filtered = trip_filtered.filter(lambda line : line.split(',')[7] != '')\n",
    "trip_filtered_distance_count = trip_filtered.map(lambda line : line.split(',')[7]).count()\n",
    "print(\"There are \" + str(trip_filtered_distance_count) + \" records in trip_distance after filter\")"
   ]
  },
  {
   "cell_type": "code",
   "execution_count": 45,
   "id": "03c30682",
   "metadata": {},
   "outputs": [
    {
     "name": "stderr",
     "output_type": "stream",
     "text": [
      "[Stage 91:================================================>         (5 + 1) / 6]\r"
     ]
    },
    {
     "name": "stdout",
     "output_type": "stream",
     "text": [
      "[(43050, 0.05545981386673684), (43020, 0.03600285427063479), (43278, 0.022864212716075583), (43116, 0.059504653033246084), (43179, 0.07075066034400256), (43006, 0.03495577782547935)]\n"
     ]
    },
    {
     "name": "stderr",
     "output_type": "stream",
     "text": [
      "                                                                                \r"
     ]
    }
   ],
   "source": [
    "# 2\n",
    "# filter the data make it key value pair\n",
    "def parseRecord2(line):\n",
    "    array_line = line.split(',')\n",
    "    return (int(array_line[3]), float(array_line[6]))\n",
    "city_surge = trip_filtered.map(parseRecord2)\n",
    "countsByKey = sc.broadcast(city_surge.countByKey())\n",
    "avg_city_surge = city_surge.reduceByKey(lambda a,b: a+b)\n",
    "avg = avg_city_surge.map(lambda x: (x[0], x[1]/countsByKey.value[x[0]]))\n",
    "print(avg.collect())"
   ]
  },
  {
   "cell_type": "code",
   "execution_count": null,
   "id": "9652c2de",
   "metadata": {},
   "outputs": [],
   "source": []
  },
  {
   "cell_type": "code",
   "execution_count": 46,
   "id": "9a350c12",
   "metadata": {},
   "outputs": [
    {
     "name": "stderr",
     "output_type": "stream",
     "text": [
      "                                                                                \r"
     ]
    },
    {
     "name": "stdout",
     "output_type": "stream",
     "text": [
      "('704642b5', 296.1)\n",
      "Driver 704642b5 has max trip distance of 296.1\n"
     ]
    },
    {
     "name": "stderr",
     "output_type": "stream",
     "text": [
      "                                                                                \r"
     ]
    },
    {
     "name": "stdout",
     "output_type": "stream",
     "text": [
      "Driver 704642b5's other trips\n",
      "[('704642b5', 3.21), ('704642b5', 11.09), ('704642b5', 2.61), ('704642b5', 11.7), ('704642b5', 4.65), ('704642b5', 10.42), ('704642b5', 16.7), ('704642b5', 0.43), ('704642b5', 296.1), ('704642b5', 8.1)]\n"
     ]
    },
    {
     "name": "stderr",
     "output_type": "stream",
     "text": [
      "                                                                                \r"
     ]
    },
    {
     "name": "stdout",
     "output_type": "stream",
     "text": [
      "('9019790c', 0.0)\n",
      "Driver 9019790c has min trip distance of 0.0\n"
     ]
    },
    {
     "name": "stderr",
     "output_type": "stream",
     "text": [
      "[Stage 96:================================================>         (5 + 1) / 6]\r"
     ]
    },
    {
     "name": "stdout",
     "output_type": "stream",
     "text": [
      "Driver 9019790c's other trips\n",
      "[('9019790c', 0.0), ('9019790c', 3.73), ('9019790c', 15.39)]\n"
     ]
    },
    {
     "name": "stderr",
     "output_type": "stream",
     "text": [
      "                                                                                \r"
     ]
    }
   ],
   "source": [
    "#3 \n",
    "\n",
    "# filter out negative trip distance \n",
    "trip_filtered = trip_filtered.filter(lambda line : float(line.split(',')[7]) >= 0)\n",
    "# filter the data make it key value pair\n",
    "def parseRecord3(line):\n",
    "    array_line = line.split(',')\n",
    "    return (array_line[1], float(array_line[7]))\n",
    "driver_distance = trip_filtered.map(parseRecord3)\n",
    "\n",
    "# find max distance\n",
    "driver_max = driver_distance.max(lambda x: x[1])\n",
    "print(driver_max)\n",
    "print(\"Driver \" + driver_max[0] +\" has max trip distance of \" + str(driver_max[1]))\n",
    "\n",
    "# print out other trips \n",
    "max_trips = driver_distance.filter(lambda x: x[0] == driver_max[0]).collect()\n",
    "print(\"Driver \" + driver_max[0] + \"'s other trips\")\n",
    "print(max_trips)\n",
    "\n",
    "# find min distance\n",
    "driver_min = driver_distance.min(lambda x: x[1])\n",
    "print(driver_min)\n",
    "print(\"Driver \" + driver_min[0] +\" has min trip distance of \" + str(driver_min[1]))\n",
    "      \n",
    "# print out other trips \n",
    "min_trips = driver_distance.filter(lambda x: x[0] == driver_min[0]).collect()\n",
    "print(\"Driver \" + driver_min[0] + \"'s other trips\")\n",
    "print(min_trips)"
   ]
  },
  {
   "cell_type": "markdown",
   "id": "e63b0645",
   "metadata": {},
   "source": [
    "# Part 2 Working with DataFrames"
   ]
  },
  {
   "cell_type": "markdown",
   "id": "48ad8c44",
   "metadata": {},
   "source": [
    "# 2.1"
   ]
  },
  {
   "cell_type": "code",
   "execution_count": 47,
   "id": "e5db52fb",
   "metadata": {},
   "outputs": [
    {
     "name": "stderr",
     "output_type": "stream",
     "text": [
      "                                                                                \r"
     ]
    },
    {
     "name": "stdout",
     "output_type": "stream",
     "text": [
      "root\n",
      " |-- id: string (nullable = true)\n",
      " |-- driver_id: string (nullable = true)\n",
      " |-- passenger_id: string (nullable = true)\n",
      " |-- city_id: integer (nullable = true)\n",
      " |-- call_time: string (nullable = true)\n",
      " |-- finish_time: string (nullable = true)\n",
      " |-- surge_rate: double (nullable = true)\n",
      " |-- trip_distance: double (nullable = true)\n",
      " |-- trip_fare: double (nullable = true)\n",
      "\n",
      "root\n",
      " |-- id: string (nullable = true)\n",
      " |-- first_call_time: string (nullable = true)\n",
      "\n",
      "root\n",
      " |-- id: integer (nullable = true)\n",
      " |-- name: string (nullable = true)\n",
      "\n"
     ]
    },
    {
     "name": "stderr",
     "output_type": "stream",
     "text": [
      "                                                                                \r"
     ]
    }
   ],
   "source": [
    "# 1 \n",
    "\n",
    "# Load datas\n",
    "df_trip = spark.read.csv('data/trip.csv',header=True, inferSchema=True)\n",
    "df_passenger = spark.read.csv('data/passenger.csv',header=True, inferSchema=True)\n",
    "df_city = spark.read.csv('data/city.csv',header=True, inferSchema=True)\n",
    "\n",
    "df_trip.printSchema()\n",
    "df_passenger.printSchema()\n",
    "df_city.printSchema()"
   ]
  },
  {
   "cell_type": "markdown",
   "id": "98d902fd",
   "metadata": {},
   "source": [
    "# 2.2"
   ]
  },
  {
   "cell_type": "code",
   "execution_count": 48,
   "id": "72fda1de",
   "metadata": {},
   "outputs": [
    {
     "name": "stdout",
     "output_type": "stream",
     "text": [
      "+-------+------------+\n",
      "|city_id|        name|\n",
      "+-------+------------+\n",
      "|  42868|      Mordor|\n",
      "|  42948|      Erebor|\n",
      "|  43006|Minas Tirith|\n",
      "|  43020|    Isengard|\n",
      "|  43050|      Gondor|\n",
      "|  43094|       Moria|\n",
      "|  43116|       Rohan|\n",
      "|  43179|   Rivendell|\n",
      "|  43244| Minas Ithis|\n",
      "|  43278|   The Shire|\n",
      "+-------+------------+\n",
      "\n"
     ]
    }
   ],
   "source": [
    "#1 \n",
    "df_city = df_city.withColumnRenamed('id', 'city_id')\n",
    "df_city.show()"
   ]
  },
  {
   "cell_type": "code",
   "execution_count": 49,
   "id": "48d89e4c",
   "metadata": {},
   "outputs": [],
   "source": [
    "#2 \n",
    "df_joined = df_city.join(df_trip,df_city.city_id==df_trip.city_id,how='inner')"
   ]
  },
  {
   "cell_type": "code",
   "execution_count": 50,
   "id": "f5f23104",
   "metadata": {},
   "outputs": [
    {
     "name": "stdout",
     "output_type": "stream",
     "text": [
      "+-------+------------+--------+---------+------------+-------+--------------------+--------------------+----------+-------------+---------+\n",
      "|city_id|        name|      id|driver_id|passenger_id|city_id|           call_time|         finish_time|surge_rate|trip_distance|trip_fare|\n",
      "+-------+------------+--------+---------+------------+-------+--------------------+--------------------+----------+-------------+---------+\n",
      "|  43006|Minas Tirith|a84c0db2| cb64172e|    2ea4359d|  43006|9/8/2019 10:01:28 PM|9/8/2019 10:15:54 PM|       0.3|         1.92|     4.36|\n",
      "|  43006|Minas Tirith|a84c2d10| 3034e6fe|    e1bd0c8d|  43006| 7/1/2019 8:56:28 PM| 7/1/2019 9:22:09 PM|       0.0|         9.36|     6.91|\n",
      "|  43050|      Gondor|a84c3e75| 93fb6802|    75e6d450|  43050|8/20/2019 9:30:46 PM|8/20/2019 9:46:48 PM|       0.0|         4.39|     3.48|\n",
      "|  43020|    Isengard|a84c3f6f| 25fc9273|    5ba48e89|  43020| 9/8/2019 2:42:41 AM| 9/8/2019 2:59:56 AM|       0.0|         2.04|     1.54|\n",
      "|  43006|Minas Tirith|a84c5ce2| 484c4d0c|    fdb2ef59|  43006|6/10/2019 9:29:18 AM|6/10/2019 9:55:36 AM|       0.0|         7.37|     5.83|\n",
      "+-------+------------+--------+---------+------------+-------+--------------------+--------------------+----------+-------------+---------+\n",
      "only showing top 5 rows\n",
      "\n"
     ]
    }
   ],
   "source": [
    "#3\n",
    "df_joined_3 = df_joined.filter(df_joined.trip_distance > 0)\n",
    "df_joined_3 = df_joined_3.filter(df_joined.trip_fare > 0)\n",
    "df_joined_3.show(5)"
   ]
  },
  {
   "cell_type": "code",
   "execution_count": 51,
   "id": "a4153897",
   "metadata": {},
   "outputs": [
    {
     "name": "stderr",
     "output_type": "stream",
     "text": [
      "[Stage 107:>                                                        (0 + 2) / 2]\r"
     ]
    },
    {
     "name": "stdout",
     "output_type": "stream",
     "text": [
      "+--------+---------+------------+-------------+\n",
      "|      id|driver_id|passenger_id|trip_distance|\n",
      "+--------+---------+------------+-------------+\n",
      "|7f4a1ec5| 704642b5|    771e01b2|        296.1|\n",
      "|30bb5f34| 7119b481|    d5e5e5d8|       261.71|\n",
      "|ac1861e1| ceccad76|    2a2f3fc5|       244.82|\n",
      "|4525a2bf| bdb22ca4|    b7f9f488|       236.14|\n",
      "|b60c4614| 70b9733e|    09ec3959|       235.42|\n",
      "+--------+---------+------------+-------------+\n",
      "only showing top 5 rows\n",
      "\n"
     ]
    },
    {
     "name": "stderr",
     "output_type": "stream",
     "text": [
      "                                                                                \r"
     ]
    }
   ],
   "source": [
    "#4\n",
    "from pyspark.sql.functions import *\n",
    "df_joined_4 = df_joined_3.sort(df_joined_3.trip_distance.desc())\n",
    "df_joined_4_s = df_joined_4.select(col('id'),col('driver_id'),col('passenger_id'),col('trip_distance'))\n",
    "df_joined_4_s.show(5)"
   ]
  },
  {
   "cell_type": "markdown",
   "id": "0cb1808f",
   "metadata": {},
   "source": [
    "# 2.3"
   ]
  },
  {
   "cell_type": "code",
   "execution_count": 52,
   "id": "73cf7086",
   "metadata": {},
   "outputs": [
    {
     "name": "stderr",
     "output_type": "stream",
     "text": [
      "                                                                                \r"
     ]
    },
    {
     "data": {
      "text/plain": [
       "[Row(city_id=43006, name='Minas Tirith', id='a84b949e', driver_id='a454c95d', passenger_id='906eee37', city_id=43006, call_time='7/6/2019 6:32:54 AM', finish_time='7/6/2019 6:53:35 AM', surge_rate=0.0, trip_distance=4.72, trip_fare=3.18, On_holiday=False),\n",
       " Row(city_id=43050, name='Gondor', id='a84bc1e0', driver_id='1a154fe4', passenger_id='313bd7fe', city_id=43050, call_time='7/22/2019 5:58:25 PM', finish_time='7/22/2019 6:54:49 PM', surge_rate=0.0, trip_distance=20.2, trip_fare=10.69, On_holiday=False),\n",
       " Row(city_id=43050, name='Gondor', id='a84bcd75', driver_id='9e8e5eb2', passenger_id='47253b43', city_id=43050, call_time='9/7/2019 6:24:18 PM', finish_time='9/7/2019 6:47:46 PM', surge_rate=0.0, trip_distance=8.78, trip_fare=7.41, On_holiday=True),\n",
       " Row(city_id=43006, name='Minas Tirith', id='a84bde9a', driver_id='e609e0a3', passenger_id='b731ab38', city_id=43006, call_time='7/2/2019 6:24:59 PM', finish_time='7/2/2019 6:38:58 PM', surge_rate=0.0, trip_distance=3.4, trip_fare=1.84, On_holiday=False),\n",
       " Row(city_id=43179, name='Rivendell', id='a84be654', driver_id='308ccf8f', passenger_id='15a309cb', city_id=43179, call_time='9/7/2019 9:15:50 AM', finish_time='9/7/2019 9:45:28 AM', surge_rate=0.4, trip_distance=9.99, trip_fare=6.21, On_holiday=True)]"
      ]
     },
     "execution_count": 52,
     "metadata": {},
     "output_type": "execute_result"
    }
   ],
   "source": [
    "#1 \n",
    "\n",
    "#1. The function is defined\n",
    "\n",
    "def On_holiday(line):\n",
    "    holiday = ['1/1/2019', '3/5/2019', '4/19/2019', '4/21/2019', '5/1/2019', '6/20/2019',\\\n",
    "           '9/7/2019', '10/12/2019', '11/2/2019', '11/15/2019', '12/25/2019']\n",
    "    array_line = line.split(' ')\n",
    "    check = False\n",
    "    if array_line[0] in holiday:\n",
    "        check = True\n",
    "    return check\n",
    "#2. Calling the UDF with DataFrame\n",
    "from pyspark.sql.functions import udf\n",
    "from pyspark.sql.types import *\n",
    "\n",
    "# NOTE: it seems that calls to udf() must be after SparkContext() is called\n",
    "udf_On_holiday = udf(On_holiday, BooleanType())\n",
    "df_changed = df_joined.withColumn(\"On_holiday\", udf_On_holiday(\"call_time\"))\n",
    "df_changed.tail(5)"
   ]
  },
  {
   "cell_type": "code",
   "execution_count": 54,
   "id": "6c1f8353",
   "metadata": {},
   "outputs": [
    {
     "name": "stderr",
     "output_type": "stream",
     "text": [
      "[Stage 111:>                                                        (0 + 2) / 2]\r"
     ]
    },
    {
     "name": "stdout",
     "output_type": "stream",
     "text": [
      "+------------+----------+------------------+\n",
      "|        name|On_holiday|    avg(trip_fare)|\n",
      "+------------+----------+------------------+\n",
      "|      Gondor|     false|  5.13122212820313|\n",
      "|      Gondor|      true|5.4218031555221575|\n",
      "|    Isengard|     false| 5.550994994344451|\n",
      "|    Isengard|      true| 5.690277565084232|\n",
      "|Minas Tirith|     false| 4.969949667768408|\n",
      "|Minas Tirith|      true|  5.22092199619494|\n",
      "|   Rivendell|     false| 5.669180818214374|\n",
      "|   Rivendell|      true| 5.851725862931469|\n",
      "|       Rohan|     false| 5.276064985963267|\n",
      "|       Rohan|      true| 5.455164385996093|\n",
      "|   The Shire|     false| 4.995571570029671|\n",
      "|   The Shire|      true| 5.189087501615612|\n",
      "+------------+----------+------------------+\n",
      "\n"
     ]
    },
    {
     "name": "stderr",
     "output_type": "stream",
     "text": [
      "                                                                                \r"
     ]
    }
   ],
   "source": [
    "#2 use dataframe\n",
    "df_changed_2 = df_changed.groupBy(\"name\",\"On_holiday\").agg({\"trip_fare\":\"avg\"})\n",
    "df_changed_2 = df_changed_2.sort(\"name\",\"On_holiday\")\n",
    "df_changed_2.show(12)"
   ]
  },
  {
   "cell_type": "code",
   "execution_count": 55,
   "id": "aadc1ec9",
   "metadata": {},
   "outputs": [
    {
     "name": "stderr",
     "output_type": "stream",
     "text": [
      "[Stage 114:============================>                            (1 + 1) / 2]\r"
     ]
    },
    {
     "name": "stdout",
     "output_type": "stream",
     "text": [
      "+------------+----------+------------------+\n",
      "|        name|On_holiday|    avg(trip_fare)|\n",
      "+------------+----------+------------------+\n",
      "|      Gondor|     false|  5.13122212820313|\n",
      "|      Gondor|      true|5.4218031555221575|\n",
      "|    Isengard|     false| 5.550994994344451|\n",
      "|    Isengard|      true| 5.690277565084232|\n",
      "|Minas Tirith|     false| 4.969949667768408|\n",
      "|Minas Tirith|      true|  5.22092199619494|\n",
      "|   Rivendell|     false| 5.669180818214374|\n",
      "|   Rivendell|      true| 5.851725862931469|\n",
      "|       Rohan|     false| 5.276064985963267|\n",
      "|       Rohan|      true| 5.455164385996093|\n",
      "|   The Shire|     false| 4.995571570029671|\n",
      "|   The Shire|      true| 5.189087501615612|\n",
      "+------------+----------+------------------+\n",
      "\n"
     ]
    },
    {
     "name": "stderr",
     "output_type": "stream",
     "text": [
      "                                                                                \r"
     ]
    }
   ],
   "source": [
    "# use sql\n",
    "# Create Views from Dataframes\n",
    "df_changed.createOrReplaceTempView(\"sql_changed\")\n",
    "#### Aggregate the dataset by 'Year' and count the total number of athletes using SQL\n",
    "sql_changed = spark.sql('''\n",
    "  SELECT name,On_holiday,AVG(trip_fare)\n",
    "  FROM sql_changed\n",
    "  GROUP BY name,On_holiday\n",
    "  ORDER BY name,On_holiday\n",
    "''')\n",
    "sql_changed.show(12)"
   ]
  },
  {
   "cell_type": "code",
   "execution_count": 56,
   "id": "05b90878",
   "metadata": {},
   "outputs": [
    {
     "name": "stdout",
     "output_type": "stream",
     "text": [
      "+-------+------------+--------+---------+------------+-------+--------------------+--------------------+----------+-------------+---------+-------+\n",
      "|city_id|        name|      id|driver_id|passenger_id|city_id|           call_time|         finish_time|surge_rate|trip_distance|trip_fare|weekday|\n",
      "+-------+------------+--------+---------+------------+-------+--------------------+--------------------+----------+-------------+---------+-------+\n",
      "|  43006|Minas Tirith|a84c0db2| cb64172e|    2ea4359d|  43006|9/8/2019 10:01:28 PM|9/8/2019 10:15:54 PM|       0.3|         1.92|     4.36|    SUN|\n",
      "|  43006|Minas Tirith|a84c2d10| 3034e6fe|    e1bd0c8d|  43006| 7/1/2019 8:56:28 PM| 7/1/2019 9:22:09 PM|       0.0|         9.36|     6.91|    MON|\n",
      "|  43050|      Gondor|a84c3e75| 93fb6802|    75e6d450|  43050|8/20/2019 9:30:46 PM|8/20/2019 9:46:48 PM|       0.0|         4.39|     3.48|    TUE|\n",
      "|  43020|    Isengard|a84c3f6f| 25fc9273|    5ba48e89|  43020| 9/8/2019 2:42:41 AM| 9/8/2019 2:59:56 AM|       0.0|         2.04|     1.54|    SUN|\n",
      "|  43006|Minas Tirith|a84c5ce2| 484c4d0c|    fdb2ef59|  43006|6/10/2019 9:29:18 AM|6/10/2019 9:55:36 AM|       0.0|         7.37|     5.83|    MON|\n",
      "+-------+------------+--------+---------+------------+-------+--------------------+--------------------+----------+-------------+---------+-------+\n",
      "only showing top 5 rows\n",
      "\n"
     ]
    }
   ],
   "source": [
    "#3 \n",
    "import datetime\n",
    "def Weekday1(line):\n",
    "    array_line = line.split(' ')\n",
    "    return array_line[0]\n",
    "# NOTE: it seems that calls to udf() must be after SparkContext() is called\n",
    "udf_Weekday1 = udf(Weekday1, StringType())\n",
    "df_weekday = df_joined.withColumn(\"date\", udf_Weekday1(\"call_time\"))\n",
    "# convert using to_date function\n",
    "df_col = df_weekday.select(\"*\",to_date(col(\"date\"),\"M/d/yyyy\").alias(\"dateday\"))\n",
    "df_col = df_col.drop(\"date\")\n",
    "# define date function\n",
    "def Weekday2(d):\n",
    "    day = d.weekday() \n",
    "    weekday = ['MON','TUE','WED','THU','FRI','SAT','SUN']\n",
    "    return weekday[day]\n",
    "udf_Weekday2 = udf(Weekday2, StringType())\n",
    "df_col = df_col.withColumn(\"weekday\", udf_Weekday2(\"dateday\"))\n",
    "df_col = df_col.drop(\"dateday\")\n",
    "df_col.show(5)"
   ]
  },
  {
   "cell_type": "code",
   "execution_count": 57,
   "id": "8be92a53",
   "metadata": {},
   "outputs": [
    {
     "name": "stderr",
     "output_type": "stream",
     "text": [
      "Traceback (most recent call last):\n",
      "  File \"/usr/local/lib/python3.8/dist-packages/pyspark/python/lib/pyspark.zip/pyspark/daemon.py\", line 186, in manager\n",
      "  File \"/usr/local/lib/python3.8/dist-packages/pyspark/python/lib/pyspark.zip/pyspark/daemon.py\", line 74, in worker\n",
      "  File \"/usr/local/lib/python3.8/dist-packages/pyspark/python/lib/pyspark.zip/pyspark/worker.py\", line 642, in main\n",
      "    if read_int(infile) == SpecialLengths.END_OF_STREAM:\n",
      "  File \"/usr/local/lib/python3.8/dist-packages/pyspark/python/lib/pyspark.zip/pyspark/serializers.py\", line 595, in read_int\n",
      "    raise EOFError\n",
      "EOFError\n",
      "[Stage 122:==================================================>  (190 + 2) / 200]\r"
     ]
    },
    {
     "name": "stdout",
     "output_type": "stream",
     "text": [
      "+--------+-------+-----+------------------+\n",
      "|    city|weekday|Count|        Percentage|\n",
      "+--------+-------+-----+------------------+\n",
      "|  Gondor|    FRI|45623|14.324377784545634|\n",
      "|  Gondor|    MON|45502|14.286387084417848|\n",
      "|  Gondor|    SAT|51117|16.049343953984156|\n",
      "|  Gondor|    SUN|52755| 16.56363128298676|\n",
      "|  Gondor|    THU|42607|13.377436035905921|\n",
      "|  Gondor|    TUE|39995| 12.55733926951105|\n",
      "|  Gondor|    WED|40900| 12.84148458864863|\n",
      "|Isengard|    FRI|49305|14.602485428612047|\n",
      "+--------+-------+-----+------------------+\n",
      "only showing top 8 rows\n",
      "\n"
     ]
    },
    {
     "name": "stderr",
     "output_type": "stream",
     "text": [
      "                                                                                \r"
     ]
    }
   ],
   "source": [
    "# 4 \n",
    "# use sql\n",
    "# Create Views from Dataframes\n",
    "df_col.createOrReplaceTempView(\"sql_4\")\n",
    "#### Aggregate the dataset by 'Year' and count the total number of athletes using SQL\n",
    "sql_4 = spark.sql('''\n",
    "  SELECT name,weekday,COUNT(name)\n",
    "  FROM sql_4\n",
    "  GROUP BY name,weekday\n",
    "  ORDER BY name,weekday\n",
    "''')\n",
    "sql_4 = sql_4.withColumnRenamed('count(name)', 'Count')\n",
    "sql_4.createOrReplaceTempView(\"sql_4_1\")\n",
    "sql_4_1 = spark.sql('''\n",
    "  SELECT name,SUM(Count)\n",
    "  FROM sql_4_1\n",
    "  GROUP BY name\n",
    "  ORDER BY name\n",
    "''')\n",
    "sql_4 = sql_4.withColumnRenamed('name', 'city')\n",
    "sql_joined = sql_4.join(sql_4_1,sql_4.city==sql_4_1.name,how='inner')\n",
    "def Percentage(num1,num2):\n",
    "    result = num1/num2\n",
    "    return result*100\n",
    "# NOTE: it seems that calls to udf() must be after SparkContext() is called\n",
    "udf_4 = udf(Percentage, DoubleType())\n",
    "sql_joined = sql_joined.withColumn(\"Percentage\", udf_4('Count','sum(Count)'))\n",
    "sql_joined = sql_joined.drop('name','sum(Count)')\n",
    "sql_joined = sql_joined.sort(\"city\",\"weekday\")\n",
    "sql_joined.show(8)"
   ]
  },
  {
   "cell_type": "code",
   "execution_count": 58,
   "id": "749537f7",
   "metadata": {},
   "outputs": [
    {
     "name": "stderr",
     "output_type": "stream",
     "text": [
      "                                                                                \r"
     ]
    },
    {
     "data": {
      "image/png": "[encoded data removed]",
      "text/plain": [
       "<Figure size 583.25x500 with 1 Axes>"
      ]
     },
     "metadata": {},
     "output_type": "display_data"
    }
   ],
   "source": [
    "#5\n",
    "#create bar plot of each city and trip number\n",
    "import pandas as pd\n",
    "import matplotlib.pyplot as plt\n",
    "import seaborn as sns\n",
    "# sql_graph = sql_joined.filter(sql_joined.weekday == 'FRI')\n",
    "bar = sql_joined.toPandas()\n",
    "sns.catplot(x = 'city', y='Percentage',hue = 'weekday',data=bar, kind='bar')\n",
    "plt.title('Effect of weekdays on trip number for different cities')\n",
    "plt.xticks(rotation = 45)\n",
    "plt.show()"
   ]
  },
  {
   "cell_type": "markdown",
   "id": "658d95a8",
   "metadata": {},
   "source": [
    "# Part 3"
   ]
  },
  {
   "cell_type": "markdown",
   "id": "95e5d96e",
   "metadata": {},
   "source": [
    "# RDD"
   ]
  },
  {
   "cell_type": "code",
   "execution_count": 64,
   "id": "7999ea02",
   "metadata": {},
   "outputs": [
    {
     "name": "stderr",
     "output_type": "stream",
     "text": [
      "[Stage 147:=================================================>       (7 + 1) / 8]\r"
     ]
    },
    {
     "name": "stdout",
     "output_type": "stream",
     "text": [
      "CPU times: user 11.1 ms, sys: 9.84 ms, total: 20.9 ms\n",
      "Wall time: 4.8 s\n"
     ]
    },
    {
     "name": "stderr",
     "output_type": "stream",
     "text": [
      "                                                                                \r"
     ]
    },
    {
     "data": {
      "text/plain": [
       "['Minas Tirith',\n",
       " 'a84c0db2,9/8/2019 10:01:28 PM',\n",
       " 'Minas Tirith',\n",
       " 'a84c2d10,7/1/2019 8:56:28 PM',\n",
       " 'Minas Tirith',\n",
       " 'a84c5ce2,6/10/2019 9:29:18 AM',\n",
       " 'Minas Tirith',\n",
       " 'a84ceb22,6/30/2019 3:09:18 AM',\n",
       " 'Minas Tirith',\n",
       " 'a84d29a0,8/11/2019 9:49:49 PM',\n",
       " 'Minas Tirith',\n",
       " 'a84d31ee,7/7/2019 11:53:51 PM',\n",
       " 'Minas Tirith',\n",
       " 'a84d8d16,6/24/2019 7:25:16 AM',\n",
       " 'Minas Tirith',\n",
       " 'a84dbd8a,7/1/2019 9:56:52 PM',\n",
       " 'Minas Tirith',\n",
       " 'a84dc20a,6/13/2019 2:42:58 AM',\n",
       " 'Minas Tirith',\n",
       " 'a84dfcb7,7/27/2019 6:19:44 PM']"
      ]
     },
     "execution_count": 64,
     "metadata": {},
     "output_type": "execute_result"
    }
   ],
   "source": [
    "%%time\n",
    "city_rdd = sc.textFile('data/city.csv')\n",
    "# remove the header row\n",
    "header_city = city_rdd.first()\n",
    "city_rdd_data = city_rdd.filter(lambda row: row != header_city)\n",
    "\n",
    "# join on city id \n",
    "# show 5 records \n",
    "# format rdd\n",
    "def parseCity(line):\n",
    "    array_line = line.split(',')\n",
    "    return (array_line[0], array_line[1])\n",
    "\n",
    "city_rdd_datas = city_rdd.map(parseCity)\n",
    "\n",
    "def parseTrip(line):\n",
    "    array_line = line.split(',')\n",
    "    return (array_line[3], array_line[0] + ',' + array_line[4])\n",
    "\n",
    "trip_rdd_datas = trip_rdd_data.map(parseTrip)\n",
    "# join datas\n",
    "rdd_join = city_rdd_datas.join(trip_rdd_datas)\n",
    "rdd_join = rdd_join.filter(lambda row: row[1][0] == 'Minas Tirith')\n",
    "#rdd_join = rdd_join.toDF().select('_2')\n",
    "rdd_join.flatMap(lambda row: row[1]).take(20)"
   ]
  },
  {
   "cell_type": "markdown",
   "id": "fc5f7179",
   "metadata": {},
   "source": [
    "# DataFrame"
   ]
  },
  {
   "cell_type": "code",
   "execution_count": 60,
   "id": "6af8b82b",
   "metadata": {},
   "outputs": [
    {
     "name": "stdout",
     "output_type": "stream",
     "text": [
      "+--------+------------+--------------------+\n",
      "|      id|        name|           call_time|\n",
      "+--------+------------+--------------------+\n",
      "|a84c0db2|Minas Tirith|9/8/2019 10:01:28 PM|\n",
      "|a84c2d10|Minas Tirith| 7/1/2019 8:56:28 PM|\n",
      "|a84c5ce2|Minas Tirith|6/10/2019 9:29:18 AM|\n",
      "|a84ceb22|Minas Tirith|6/30/2019 3:09:18 AM|\n",
      "|a84d29a0|Minas Tirith|8/11/2019 9:49:49 PM|\n",
      "|a84d31ee|Minas Tirith|7/7/2019 11:53:51 PM|\n",
      "|a84d8d16|Minas Tirith|6/24/2019 7:25:16 AM|\n",
      "|a84dbd8a|Minas Tirith| 7/1/2019 9:56:52 PM|\n",
      "|a84dc20a|Minas Tirith|6/13/2019 2:42:58 AM|\n",
      "|a84dfcb7|Minas Tirith|7/27/2019 6:19:44 PM|\n",
      "|a84f80fa|Minas Tirith| 8/2/2019 8:17:11 PM|\n",
      "|a84fc521|Minas Tirith|5/14/2019 4:48:25 AM|\n",
      "|a850834f|Minas Tirith|7/30/2019 8:37:40 AM|\n",
      "|a850c3de|Minas Tirith|8/12/2019 12:49:3...|\n",
      "|a850de4c|Minas Tirith|6/4/2019 10:49:11 PM|\n",
      "|a851b2b2|Minas Tirith|8/28/2019 10:52:4...|\n",
      "|a8528280|Minas Tirith|8/27/2019 6:51:21 AM|\n",
      "|a852a3b2|Minas Tirith|8/31/2019 4:36:57 AM|\n",
      "|a8530202|Minas Tirith|8/31/2019 8:25:22 AM|\n",
      "|a8537774|Minas Tirith|9/17/2019 2:23:53 AM|\n",
      "+--------+------------+--------------------+\n",
      "only showing top 20 rows\n",
      "\n",
      "CPU times: user 2.99 ms, sys: 0 ns, total: 2.99 ms\n",
      "Wall time: 173 ms\n"
     ]
    }
   ],
   "source": [
    "%%time\n",
    "# filter \n",
    "df_city_frame = df_city.filter(df_city.name=='Minas Tirith')\n",
    "df_trip_frame = df_trip.filter(df_trip.city_id==43006)\n",
    "# Join city and trip on city_id\n",
    "df_joined_frame = df_city_frame.join(df_trip_frame,df_city_frame.city_id==df_trip_frame.city_id,how='inner')\n",
    "df_joined_frame.select('id','name','call_time').show(20)"
   ]
  },
  {
   "cell_type": "markdown",
   "id": "bcfd6d3d",
   "metadata": {},
   "source": [
    "# SQL"
   ]
  },
  {
   "cell_type": "code",
   "execution_count": 61,
   "id": "b716ab65",
   "metadata": {},
   "outputs": [
    {
     "name": "stdout",
     "output_type": "stream",
     "text": [
      "+------------+--------+--------------------+\n",
      "|        name|      id|           call_time|\n",
      "+------------+--------+--------------------+\n",
      "|Minas Tirith|a84c0db2|9/8/2019 10:01:28 PM|\n",
      "|Minas Tirith|a84c2d10| 7/1/2019 8:56:28 PM|\n",
      "|Minas Tirith|a84c5ce2|6/10/2019 9:29:18 AM|\n",
      "|Minas Tirith|a84ceb22|6/30/2019 3:09:18 AM|\n",
      "|Minas Tirith|a84d29a0|8/11/2019 9:49:49 PM|\n",
      "|Minas Tirith|a84d31ee|7/7/2019 11:53:51 PM|\n",
      "|Minas Tirith|a84d8d16|6/24/2019 7:25:16 AM|\n",
      "|Minas Tirith|a84dbd8a| 7/1/2019 9:56:52 PM|\n",
      "|Minas Tirith|a84dc20a|6/13/2019 2:42:58 AM|\n",
      "|Minas Tirith|a84dfcb7|7/27/2019 6:19:44 PM|\n",
      "|Minas Tirith|a84f80fa| 8/2/2019 8:17:11 PM|\n",
      "|Minas Tirith|a84fc521|5/14/2019 4:48:25 AM|\n",
      "|Minas Tirith|a850834f|7/30/2019 8:37:40 AM|\n",
      "|Minas Tirith|a850c3de|8/12/2019 12:49:3...|\n",
      "|Minas Tirith|a850de4c|6/4/2019 10:49:11 PM|\n",
      "|Minas Tirith|a851b2b2|8/28/2019 10:52:4...|\n",
      "|Minas Tirith|a8528280|8/27/2019 6:51:21 AM|\n",
      "|Minas Tirith|a852a3b2|8/31/2019 4:36:57 AM|\n",
      "|Minas Tirith|a8530202|8/31/2019 8:25:22 AM|\n",
      "|Minas Tirith|a8537774|9/17/2019 2:23:53 AM|\n",
      "+------------+--------+--------------------+\n",
      "only showing top 20 rows\n",
      "\n",
      "CPU times: user 1.54 ms, sys: 376 µs, total: 1.92 ms\n",
      "Wall time: 115 ms\n"
     ]
    }
   ],
   "source": [
    "%%time\n",
    "# use sql\n",
    "# Create Views from Dataframes\n",
    "df_city.createOrReplaceTempView(\"sql_city\")\n",
    "df_trip.createOrReplaceTempView(\"sql_trip\")\n",
    "\n",
    "## Join summer and dictionary using SQL\n",
    "sql_joined = spark.sql('''\n",
    "  SELECT d.name,w.id,w.call_time\n",
    "  FROM sql_city d JOIN sql_trip w\n",
    "  ON d.city_id=w.city_id\n",
    "  WHERE d.name = \"Minas Tirith\"\n",
    "  \n",
    "''')\n",
    "\n",
    "sql_joined.show(20)"
   ]
  },
  {
   "cell_type": "markdown",
   "id": "bf003eb8",
   "metadata": {},
   "source": [
    "# Discussion"
   ]
  },
  {
   "cell_type": "markdown",
   "id": "e9f0cb95",
   "metadata": {},
   "source": [
    "RDD time : CPU times: user 11.1 ms, sys: 9.84 ms, total: 20.9 ms\n",
    "Wall time: 4.8 s\n",
    "\n",
    "DataFrame time: CPU times: user 2.99 ms, sys: 0 ns, total: 2.99 ms\n",
    "Wall time: 173 ms\n",
    "\n",
    "SQL time: CPU times: user 1.54 ms, sys: 376 µs, total: 1.92 ms\n",
    "Wall time: 115 ms\n",
    "\n",
    "In theory, considering our dataset, RDD would be slower than both Dataframes. Because both dataframe and sql uses a catalyst optimizer for optimization. The catalyst optimizer provides an easy API to perform aggregation operations. According to the %%time function SQL > DataFrame > RDD. SQL ran the fastest and RDD ran the slowest.  In my code, sql is faster than dataframe because the dataframe approach breaks the SQL into multiple statements/queries. The sql is fastest because all the grouping and slecting is done in one statement.  "
   ]
  }
 ],
 "metadata": {
  "kernelspec": {
   "display_name": "Python 3 (ipykernel)",
   "language": "python",
   "name": "python3"
  },
  "language_info": {
   "codemirror_mode": {
    "name": "ipython",
    "version": 3
   },
   "file_extension": ".py",
   "mimetype": "text/x-python",
   "name": "python",
   "nbconvert_exporter": "python",
   "pygments_lexer": "ipython3",
   "version": "3.8.10"
  }
 },
 "nbformat": 4,
 "nbformat_minor": 5
}
